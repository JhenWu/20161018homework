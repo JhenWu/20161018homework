{
 "cells": [
  {
   "cell_type": "code",
   "execution_count": 38,
   "metadata": {
    "collapsed": false
   },
   "outputs": [],
   "source": [
    "# OOP\n",
    "class BankAccount:\n",
    "    def __init__(self, id, name):\n",
    "        self.id = id     # 帳號\n",
    "        self.name = name # 戶名\n",
    "        self.balance = 0 # 初始化帳戶餘額\n",
    "   \n",
    "    # 方法：提款\n",
    "    def withdraw(self, amount):\n",
    "        action=-1\n",
    "        if amount <= 0:\n",
    "            print('提領金額不能等於零或負數')\n",
    "        elif amount > self.balance:\n",
    "            print('提領金額大於現有餘額，請重新輸入提領金額')\n",
    "        else:\n",
    "            self.balance -= amount\n",
    "            self.display(action,amount)\n",
    "                        \n",
    "    # 方法：存款\n",
    "    def deposit(self, amount):\n",
    "        action=1\n",
    "        if amount <= 0:\n",
    "            print('存款金額不能為負數')\n",
    "        else:\n",
    "            self.balance += amount\n",
    "            self.display(action,amount)\n",
    "            \n",
    "    # 方法：顯示帳戶資訊\n",
    "    def display(self, action=0, amount=0):\n",
    "        if action==0:\n",
    "            print('帳號：' + self.id + '\\n姓名：' + self.name +'\\n動作:查詢'+'\\n餘額：' + str(self.balance))\n",
    "            #\\n  enter到下下一段\n",
    "        \n",
    "        if action ==1:\n",
    "            print('帳號：' + self.id + '\\n姓名：' + self.name +'\\n動作:存款'+ str(amount)+'\\n餘額:'+str(self.balance))\n",
    "            \n",
    "        if action==-1:\n",
    "            print('帳號：' + self.id + '\\n姓名：' + self.name +'\\n動作:提款'+ str(amount)+'\\n餘額:'+ str(self.balance))\n",
    "   "
   ]
  },
  {
   "cell_type": "code",
   "execution_count": 39,
   "metadata": {
    "collapsed": false
   },
   "outputs": [],
   "source": [
    "Client_A =BankAccount('c001', 'jhen')"
   ]
  },
  {
   "cell_type": "code",
   "execution_count": 40,
   "metadata": {
    "collapsed": false
   },
   "outputs": [
    {
     "name": "stdout",
     "output_type": "stream",
     "text": [
      "帳號：c001\n",
      "姓名：jhen\n",
      "動作:存款100\n",
      "餘額:100\n"
     ]
    }
   ],
   "source": [
    "Client_A.deposit(100)"
   ]
  },
  {
   "cell_type": "code",
   "execution_count": 41,
   "metadata": {
    "collapsed": false
   },
   "outputs": [
    {
     "name": "stdout",
     "output_type": "stream",
     "text": [
      "帳號：c001\n",
      "姓名：jhen\n",
      "動作:提款10\n",
      "餘額:90\n"
     ]
    }
   ],
   "source": [
    "Client_A.withdraw(10)"
   ]
  },
  {
   "cell_type": "code",
   "execution_count": 42,
   "metadata": {
    "collapsed": false
   },
   "outputs": [
    {
     "name": "stdout",
     "output_type": "stream",
     "text": [
      "帳號：c001\n",
      "姓名：jhen\n",
      "動作:查詢\n",
      "餘額：90\n"
     ]
    }
   ],
   "source": [
    "Client_A.display(0)"
   ]
  },
  {
   "cell_type": "code",
   "execution_count": null,
   "metadata": {
    "collapsed": true
   },
   "outputs": [],
   "source": []
  }
 ],
 "metadata": {
  "kernelspec": {
   "display_name": "Python [Root]",
   "language": "python",
   "name": "Python [Root]"
  },
  "language_info": {
   "codemirror_mode": {
    "name": "ipython",
    "version": 3
   },
   "file_extension": ".py",
   "mimetype": "text/x-python",
   "name": "python",
   "nbconvert_exporter": "python",
   "pygments_lexer": "ipython3",
   "version": "3.5.2"
  }
 },
 "nbformat": 4,
 "nbformat_minor": 0
}
