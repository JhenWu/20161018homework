{
 "cells": [
  {
   "cell_type": "code",
   "execution_count": 4,
   "metadata": {
    "collapsed": true
   },
   "outputs": [],
   "source": [
    "#數值宣告\n",
    "\n",
    "S0=100 #S0:標的資產的股價\n",
    "K=105 #履約價\n",
    "r=0.05 #利率\n",
    "T=0.5 #0.5為半年\n",
    "sigma=0.3 #波動度"
   ]
  },
  {
   "cell_type": "code",
   "execution_count": 5,
   "metadata": {
    "collapsed": false
   },
   "outputs": [],
   "source": [
    "def options_pricing_d1(S0,K,r,T,sigma):\n",
    "    from math import log, sqrt, exp \n",
    "    return (log(S0/K)+(r+0.5*sigma**2)*T)/(sigma*sqrt(T))"
   ]
  },
  {
   "cell_type": "code",
   "execution_count": 6,
   "metadata": {
    "collapsed": false
   },
   "outputs": [
    {
     "data": {
      "text/plain": [
       "-0.006081892220328774"
      ]
     },
     "execution_count": 6,
     "metadata": {},
     "output_type": "execute_result"
    }
   ],
   "source": [
    "options_pricing_d1(100,105,0.05,0.5,0.3)"
   ]
  },
  {
   "cell_type": "code",
   "execution_count": 7,
   "metadata": {
    "collapsed": false
   },
   "outputs": [],
   "source": [
    "def options_pricing_d2(S0,K,r,T,sigma):\n",
    "    from math import log, sqrt, exp \n",
    "    return options_pricing_d1(S0,K,r,T,sigma)-sigma*sqrt(T)"
   ]
  },
  {
   "cell_type": "code",
   "execution_count": 8,
   "metadata": {
    "collapsed": false
   },
   "outputs": [
    {
     "data": {
      "text/plain": [
       "-0.21821392657629302"
      ]
     },
     "execution_count": 8,
     "metadata": {},
     "output_type": "execute_result"
    }
   ],
   "source": [
    "options_pricing_d2(100,105,0.05,0.5,0.3)"
   ]
  },
  {
   "cell_type": "code",
   "execution_count": 9,
   "metadata": {
    "collapsed": true
   },
   "outputs": [],
   "source": [
    "def options_pricing_BSMC(S0,K,r,T,sigma):\n",
    "    from math import log, sqrt, exp \n",
    "    from scipy import stats\n",
    "    return S0*stats.norm.cdf(options_pricing_d1(S0,K,r,T,sigma),0,1)-exp(-r*T)*K*stats.norm.cdf(options_pricing_d2(S0,K,r,T,sigma),0,1)"
   ]
  },
  {
   "cell_type": "code",
   "execution_count": 10,
   "metadata": {
    "collapsed": false
   },
   "outputs": [
    {
     "data": {
      "text/plain": [
       "7.3984133491558381"
      ]
     },
     "execution_count": 10,
     "metadata": {},
     "output_type": "execute_result"
    }
   ],
   "source": [
    "options_pricing_BSMC(100,105,0.05,0.5,0.3)"
   ]
  },
  {
   "cell_type": "code",
   "execution_count": 11,
   "metadata": {
    "collapsed": false
   },
   "outputs": [
    {
     "name": "stdout",
     "output_type": "stream",
     "text": [
      "買權價格 7.398\n"
     ]
    }
   ],
   "source": [
    "print('買權價格 %5.3f' % options_pricing_BSMC(S0,K,r,T,sigma))\n",
    "# print() 印出  \n",
    "# \"\"或'' 夾一字串  \n",
    "# %5.3 位數定義整數5位小數位後3位 \n",
    "# % 承接C0並以%5.3格式輸出"
   ]
  },
  {
   "cell_type": "code",
   "execution_count": 12,
   "metadata": {
    "collapsed": true
   },
   "outputs": [],
   "source": [
    "def options_pricing_BSMP(S0,K,r,T,sigma):\n",
    "    from math import log, sqrt, exp \n",
    "    from scipy import stats\n",
    "    return exp(-r*T)*K*stats.norm.cdf(-options_pricing_d2(S0,K,r,T,sigma),0,1)-S0*stats.norm.cdf(-options_pricing_d1(S0,K,r,T,sigma),0,1)"
   ]
  },
  {
   "cell_type": "code",
   "execution_count": 13,
   "metadata": {
    "collapsed": false
   },
   "outputs": [
    {
     "data": {
      "text/plain": [
       "9.8059541121307561"
      ]
     },
     "execution_count": 13,
     "metadata": {},
     "output_type": "execute_result"
    }
   ],
   "source": [
    "options_pricing_BSMP(100,105,0.05,0.5,0.3)"
   ]
  },
  {
   "cell_type": "code",
   "execution_count": 14,
   "metadata": {
    "collapsed": false
   },
   "outputs": [
    {
     "name": "stdout",
     "output_type": "stream",
     "text": [
      "賣權價格 9.806\n"
     ]
    }
   ],
   "source": [
    "print('賣權價格 %5.3f' % options_pricing_BSMP(S0,K,r,T,sigma)) "
   ]
  },
  {
   "cell_type": "code",
   "execution_count": null,
   "metadata": {
    "collapsed": true
   },
   "outputs": [],
   "source": []
  }
 ],
 "metadata": {
  "anaconda-cloud": {},
  "kernelspec": {
   "display_name": "Python [Root]",
   "language": "python",
   "name": "Python [Root]"
  },
  "language_info": {
   "codemirror_mode": {
    "name": "ipython",
    "version": 3
   },
   "file_extension": ".py",
   "mimetype": "text/x-python",
   "name": "python",
   "nbconvert_exporter": "python",
   "pygments_lexer": "ipython3",
   "version": "3.5.2"
  }
 },
 "nbformat": 4,
 "nbformat_minor": 0
}
