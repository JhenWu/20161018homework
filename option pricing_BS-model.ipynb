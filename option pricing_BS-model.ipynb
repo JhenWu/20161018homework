{
 "cells": [
  {
   "cell_type": "code",
   "execution_count": 42,
   "metadata": {
    "collapsed": true
   },
   "outputs": [],
   "source": [
    "#數值宣告\n",
    "\n",
    "S0=100 #S0:標的資產的股價\n",
    "K=105 #履約價\n",
    "r=0.05 #利率\n",
    "T=0.5 #0.5為半年\n",
    "sigma=0.3 #波動度"
   ]
  },
  {
   "cell_type": "code",
   "execution_count": 43,
   "metadata": {
    "collapsed": false
   },
   "outputs": [],
   "source": [
    "#http://wiki.mbalib.com/zh-tw/Black-Scholes%E6%9C%9F%E6%9D%83%E5%AE%9A%E4%BB%B7%E6%A8%A1%E5%9E%8B\n",
    "def options_pricing_BSMC(S0,K,r,T,sigma):   #函數開頭def #記得結尾:\n",
    "    from math import log, sqrt, exp   #函數庫math\n",
    "    from scipy import stats   #統計函數庫scipy\n",
    "    d1=(log(S0/K)+(r+0.5*sigma**2)*T)/(sigma*sqrt(T))  #4個縮排\n",
    "    d2=d1-sigma*sqrt(T)\n",
    "    C0=S0*stats.norm.cdf(d1,0,1)-exp(-r*T)*K*stats.norm.cdf(d2,0,1)\n",
    "    return C0\n",
    "#內部函數用from 外部函數用import 內部的運算完會刪除運算留return出的值而已"
   ]
  },
  {
   "cell_type": "code",
   "execution_count": 44,
   "metadata": {
    "collapsed": true
   },
   "outputs": [],
   "source": [
    "def options_pricing_BSMP(S0,K,r,T,sigma):\n",
    "    from math import log, sqrt, exp\n",
    "    from scipy import stats\n",
    "    d1=(log(S0/K)+(r+0.5*sigma**2)*T)/(sigma*sqrt(T))\n",
    "    d2=d1-sigma*sqrt(T)\n",
    "    P0=exp(-r*T)*K*stats.norm.cdf(-d2,0,1)-S0*stats.norm.cdf(-d1,0,1)\n",
    "    return P0"
   ]
  },
  {
   "cell_type": "code",
   "execution_count": 45,
   "metadata": {
    "collapsed": false
   },
   "outputs": [],
   "source": [
    "C0=max(options_pricing_BSMC(S0,K,r,T,sigma),0)"
   ]
  },
  {
   "cell_type": "code",
   "execution_count": 46,
   "metadata": {
    "collapsed": true
   },
   "outputs": [],
   "source": [
    "P0=max(options_pricing_BSMP(S0,K,r,T,sigma),0)"
   ]
  },
  {
   "cell_type": "code",
   "execution_count": 47,
   "metadata": {
    "collapsed": false
   },
   "outputs": [
    {
     "name": "stdout",
     "output_type": "stream",
     "text": [
      "買權價格 7.398\n"
     ]
    }
   ],
   "source": [
    "print('買權價格 %5.3f' % C0)\n",
    "# print() 印出  \n",
    "# \"\"或'' 夾一字串  \n",
    "# %5.3 位數定義整數5位小數位後3位 \n",
    "# % 承接C0並以%5.3格式輸出"
   ]
  },
  {
   "cell_type": "code",
   "execution_count": 48,
   "metadata": {
    "collapsed": false
   },
   "outputs": [
    {
     "name": "stdout",
     "output_type": "stream",
     "text": [
      "賣權價格 9.806\n"
     ]
    }
   ],
   "source": [
    "print('賣權價格 %5.3f' % P0)"
   ]
  },
  {
   "cell_type": "code",
   "execution_count": null,
   "metadata": {
    "collapsed": true
   },
   "outputs": [],
   "source": []
  }
 ],
 "metadata": {
  "anaconda-cloud": {},
  "kernelspec": {
   "display_name": "Python [Root]",
   "language": "python",
   "name": "Python [Root]"
  },
  "language_info": {
   "codemirror_mode": {
    "name": "ipython",
    "version": 3
   },
   "file_extension": ".py",
   "mimetype": "text/x-python",
   "name": "python",
   "nbconvert_exporter": "python",
   "pygments_lexer": "ipython3",
   "version": "3.5.2"
  }
 },
 "nbformat": 4,
 "nbformat_minor": 0
}
